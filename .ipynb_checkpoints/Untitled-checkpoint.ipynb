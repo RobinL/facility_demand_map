{
 "cells": [
  {
   "cell_type": "code",
   "execution_count": 1,
   "metadata": {
    "collapsed": true
   },
   "outputs": [],
   "source": [
    "import psycopg2\n",
    "con_string = \"host='localhost' dbname='postgres' user='postgres' password=''\"\n",
    "conn = psycopg2.connect(con_string)\n",
    "cursor = conn.cursor()"
   ]
  },
  {
   "cell_type": "code",
   "execution_count": 2,
   "metadata": {
    "collapsed": true
   },
   "outputs": [],
   "source": [
    "import pandas as pd"
   ]
  },
  {
   "cell_type": "code",
   "execution_count": 7,
   "metadata": {
    "collapsed": false
   },
   "outputs": [],
   "source": [
    "sql = \"\"\"\n",
    "select id, demand_for_prison, country_first_letter, lat, lng from police.demand_for_prison\n",
    "\"\"\"\n",
    "df = pd.read_sql(sql, conn)\n",
    "df[\"date\"]= \"2016-01-01\"\n",
    "df.to_csv(\"demand_for_prison.csv\", index=False, encoding=\"utf-8\")"
   ]
  },
  {
   "cell_type": "code",
   "execution_count": null,
   "metadata": {
    "collapsed": true
   },
   "outputs": [],
   "source": [
    "sql = \"\"\"\n",
    "select id, demand_for_prison, country_first_letter, lat, lng from police.demand_for_prison_detail\n",
    "\"\"\"\n",
    "df = pd.read_sql(sql, conn)\n",
    "df[\"date\"]= \"2016-01-01\"\n",
    "df.to_csv(\"demand_for_prison_detail.csv\", index=False, encoding=\"utf-8\")"
   ]
  }
 ],
 "metadata": {
  "kernelspec": {
   "display_name": "Python 2",
   "language": "python",
   "name": "python2"
  },
  "language_info": {
   "codemirror_mode": {
    "name": "ipython",
    "version": 2
   },
   "file_extension": ".py",
   "mimetype": "text/x-python",
   "name": "python",
   "nbconvert_exporter": "python",
   "pygments_lexer": "ipython2",
   "version": "2.7.11"
  }
 },
 "nbformat": 4,
 "nbformat_minor": 0
}
